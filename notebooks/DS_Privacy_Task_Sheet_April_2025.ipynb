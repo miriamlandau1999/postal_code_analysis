{
 "cells": [
  {
   "cell_type": "markdown",
   "id": "utility-charm",
   "metadata": {},
   "source": [
    "## Introduction\n",
    "\n",
    "On the following pages is an exercise to give you a flavor of topics which will concern you as a Privacy Solutions data scientist. Your answers will show us something of the way you work and think as well as how well you communicate. When in doubt about how to proceed, please use your best judgment. We do require that your answers are entirely your own work and that you cite where any external resources are used.\n",
    "\n",
    "In addressing the exercises, you should use R or Python. Your answers should include the code used to produce your findings. Where you describe your findings, do so in a non-technical way, being careful with wording. The reader should not need to execute your code to see your answers.\n",
    "\n",
    "Good luck!"
   ]
  },
  {
   "cell_type": "markdown",
   "id": "toxic-lucas",
   "metadata": {},
   "source": [
    "### What to Submit\n",
    "\n",
    "Ideally you should submit a notebook, including code and comments, with a name to reflect who has submitted it. We should not have to run your code to see your answers. It would also be helfpul if you also submit either a pdf or html of the same notebook. Send your submission by attaching the files in an email to the address that you received this exercise from."
   ]
  },
  {
   "cell_type": "markdown",
   "id": "indirect-constitutional",
   "metadata": {
    "jp-MarkdownHeadingCollapsed": true
   },
   "source": [
    "## Technical Instructions\n",
    "\n",
    "The remainder of this notebook is divided into 2 sections. Section 1 consists of questions for you to answer, preferably directly in the notebook, where appropriate, use code and language that is concise, efficient, easy-to-read and annotated to explain what’s going on. Where a question is open-ended, it is encouraged that you are succinct in your explanation.\n",
    "\n",
    "Section 2 consists of a description of the type of follow up questions you would be asked during our live interview if your candidacy were to proceed to that next step. There is no action required for this step-- it is intended to further prime you for the type of questions that we consider."
   ]
  },
  {
   "cell_type": "markdown",
   "id": "thick-progressive",
   "metadata": {},
   "source": [
    "## US Zip Code Populations\n",
    "\n",
    "### Section 1\n",
    "\n",
    "The following questions involve the downloading and joining of two datasets. This is open source data available on the internet which is a few years out of date. Read through the whole of the question first so you can remove any columns from the data that are not required in advance. The dataset at https://tinyurl.com/TaskDataA has a number of variables including population by 5-digit ZIP code for (nearly) the whole of the USA (a fairly poor data dictionary can be downloaded here: https://tinyurl.com/TaskDataADesc). Zip code, or more properly ZCTA (Zip code tabulation area) is the ninth column. This dataset, however, does not have the US state of each ZIP code (despite the description implying it might), but the one at https://tinyurl.com/TaskDataZ does (ZCTA is the second column), so download and (inner) join the datasets.\n",
    "\n",
    "For the following questions, where appropriate, use code that is concise, efficient, easy-to-read, and annotated to explain what’s going on. Where the answer is a 5-digit ZIP code, also give the state."
   ]
  },
  {
   "cell_type": "markdown",
   "id": "delayed-solomon",
   "metadata": {},
   "source": [
    "a) Which state has the most 5-digit ZIP codes, and how many such codes does it have?"
   ]
  },
  {
   "cell_type": "markdown",
   "id": "natural-german",
   "metadata": {},
   "source": [
    "b) Give the 5-digit ZIP code which is i) the most easterly, and then excluding Alaska ii) the most westerly and iii) the most northerly."
   ]
  },
  {
   "cell_type": "markdown",
   "id": "offensive-italic",
   "metadata": {},
   "source": [
    "c) Which 5-digit ZIP code has the highest population density? Present that density in a sensible, informative way."
   ]
  },
  {
   "cell_type": "markdown",
   "id": "intelligent-departure",
   "metadata": {},
   "source": [
    "d) Below you will create another dataset where you aggregate 5-digit ZIP codes to 3-digit ZIP codes (based upon common first three digits), but before you do, you need to check state and ZIP alignment:\n",
    "\n",
    "    i) Which 3-digit ZIP codes are common to more than one state?\n",
    "    \n",
    "    ii) Name the incongruous places (city). \n"
   ]
  },
  {
   "cell_type": "markdown",
   "id": "civic-literacy",
   "metadata": {},
   "source": [
    "e) Create a new dataset based upon what you already have, which contains columns showing 3-digit ZIP codes, state, population and land area (exclude the places you found in d).\n",
    "\n",
    "    i) How many 3-digit ZIP codes have a population smaller than 20,000 residents (ignore zero populations and assume any with single digits are also zero).\n",
    "\n",
    "    ii) Produce a sensible plot to visualize the variation in population density of the ‘small’ 3-digit ZIP codes and comment upon it.\n",
    "\n",
    "    iii) Where is the 3-digit ZIP code with the smallest population density? Is this a surprise?"
   ]
  },
  {
   "cell_type": "markdown",
   "id": "latter-testimony",
   "metadata": {},
   "source": [
    "f) Write a short illustrated account which compares the distributions of population sizes for 5-digit and 3-digit ZIP codes. Present any code you use and analyses as an appendix to your ‘report’."
   ]
  },
  {
   "cell_type": "markdown",
   "id": "measured-essay",
   "metadata": {},
   "source": [
    "### Section 2\n",
    "\n",
    "Part of our work at Privacy Hub involves applying industry-standard guidance to various real life use cases. Such guidance often takes the form of modifications to a dataset in the name of reducing risk of re-identification. Sometimes the application of the standard guidance is a sensible approach. Other times, however, we use this guidance as a starting point, and modify or refine it in order to strengthen privacy protection or enable a higher degree of utility from the data.\n",
    "\n",
    "At the interview, we would work through pros and cons of examples of this type of guidance, along with a discussion of alternative approaches."
   ]
  },
  {
   "cell_type": "code",
   "execution_count": null,
   "id": "6f50e9b6-6497-4edf-88b3-bcafb04cb10f",
   "metadata": {},
   "outputs": [],
   "source": []
  }
 ],
 "metadata": {
  "kernelspec": {
   "display_name": "Python 3 (ipykernel)",
   "language": "python",
   "name": "python3"
  },
  "language_info": {
   "codemirror_mode": {
    "name": "ipython",
    "version": 3
   },
   "file_extension": ".py",
   "mimetype": "text/x-python",
   "name": "python",
   "nbconvert_exporter": "python",
   "pygments_lexer": "ipython3",
   "version": "3.11.4"
  }
 },
 "nbformat": 4,
 "nbformat_minor": 5
}
